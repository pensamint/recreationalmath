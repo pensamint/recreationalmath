{
 "cells": [
  {
   "cell_type": "markdown",
   "id": "dfb198af",
   "metadata": {},
   "source": [
    "\n",
    "# Prime Charts and Bar Numbers\n",
    "\n",
    "By: Aysegul Alpay and Belle Pensamiento\n",
    "\n",
    "\n",
    "The question arose during a conversation with Aysegul regarding Problem 3 on Project Euler.\n",
    "The task is to get the prime factors of 600851475143. The lowest prime factor was found to be 71, through trial and error.\n",
    "Aysegul was surprised that it wasn't a lower number. I didn't think that the there was a relationship formed between n and its primes as n increased.\n",
    "Neither of us could really prove it so we got to work making a bar chart that would visualize the amount of times a number was someone else's prime.\n",
    "Are bigger numbers are more likely to have 2 as their prime number? what about 3? what about 4, 5, etc? And does this bar chart method actually prove anything?\n"
   ]
  },
  {
   "cell_type": "code",
   "execution_count": 5,
   "id": "cfe83182",
   "metadata": {},
   "outputs": [
    {
     "name": "stdout",
     "output_type": "stream",
     "text": [
      "[1, 2, 3, 4, 5, 6, 7, 8, 9, 10, 11, 12, 13, 14, 15, 16, 17, 18, 19, 20, 21, 22, 23, 24, 25, 26, 27, 28, 29, 30, 31, 32, 33, 34, 35, 36, 37, 38, 39, 40, 41, 42, 43, 44, 45, 46, 47, 48, 49, 50, 51, 52, 53, 54, 55, 56, 57, 58, 59, 60, 61, 62, 63, 64, 65, 66, 67, 68, 69, 70, 71, 72, 73, 74, 75, 76, 77, 78, 79, 80, 81, 82, 83, 84, 85, 86, 87, 88, 89, 90, 91, 92, 93, 94, 95, 96, 97, 98, 99, 100]\n",
      "[50, 33, 20, 14, 9, 7, 5, 5, 4, 3, 3, 2, 2, 2, 2, 1, 1, 1, 1, 1, 1, 1, 1, 1, 1]\n"
     ]
    },
    {
     "data": {
      "image/png": "[encoded data removed]",
      "text/plain": [
       "<Figure size 640x480 with 1 Axes>"
      ]
     },
     "metadata": {},
     "output_type": "display_data"
    }
   ],
   "source": [
    "import sympy as sp\n",
    "\n",
    "n = 100\n",
    "\n",
    "mylist = list(range(1,n+1))\n",
    "print(mylist)\n",
    "\n",
    "x = list(sp.primerange(1, n+1))\n",
    "\n",
    "# print(x.index(5))\n",
    "\n",
    "allnumbers = []\n",
    "\n",
    "y = []\n",
    "for j in x:\n",
    "    n = 0\n",
    "    # print(j)\n",
    "    for i in mylist:\n",
    "        \n",
    "        if i % j == 0:\n",
    "            n += 1\n",
    "            # allnumbers.append(j)\n",
    "    y.append(n)\n",
    "    \n",
    "print(y)\n",
    "# print(x.index(2))\n",
    "\n",
    "# # y = allnumbers\n",
    "listofzeros = [0] * len(x)\n",
    "\n",
    "\n",
    "\n",
    "# print(listofzeros)\n",
    "# print(x)\n",
    "\n",
    "\n",
    "import numpy as np\n",
    "import matplotlib.pyplot as plt \n",
    "\n",
    "\n",
    "plt.bar(x,y)\n",
    "plt.show()"
   ]
  },
  {
   "cell_type": "markdown",
   "id": "b71d72c9",
   "metadata": {},
   "source": [
    "We printed out bar charts for n = 100 and n = 1000 and noted the differences between the occurences of 2 and 3. more analysis should be done. possibly over soju or sake"
   ]
  },
  {
   "cell_type": "code",
   "execution_count": null,
   "id": "f2264a1e",
   "metadata": {},
   "outputs": [],
   "source": []
  }
 ],
 "metadata": {
  "kernelspec": {
   "display_name": "Python 3 (ipykernel)",
   "language": "python",
   "name": "python3"
  },
  "language_info": {
   "codemirror_mode": {
    "name": "ipython",
    "version": 3
   },
   "file_extension": ".py",
   "mimetype": "text/x-python",
   "name": "python",
   "nbconvert_exporter": "python",
   "pygments_lexer": "ipython3",
   "version": "3.11.5"
  }
 },
 "nbformat": 4,
 "nbformat_minor": 5
}
